{
 "cells": [
  {
   "attachments": {},
   "cell_type": "markdown",
   "metadata": {},
   "source": [
    "https://iopscience.iop.org/article/10.1088/1755-1315/702/1/012019/meta"
   ]
  },
  {
   "cell_type": "code",
   "execution_count": 2,
   "metadata": {},
   "outputs": [
    {
     "name": "stderr",
     "output_type": "stream",
     "text": [
      "Duplicate key in file PosixPath('/home/lxh/miniconda3/envs/rul_prediction/lib/python3.8/site-packages/matplotlib/mpl-data/matplotlibrc'), line 268 ('font.family         : sans-serif        ')\n",
      "Duplicate key in file PosixPath('/home/lxh/miniconda3/envs/rul_prediction/lib/python3.8/site-packages/matplotlib/mpl-data/matplotlibrc'), line 272 ('font.sans-serif: DejaVu Sans, Bitstream Vera Sans, Computer Modern Sans Serif, Lucida Grande, Verdana, Geneva, Lucid, Arial, Helvetica, Avant Garde, sans-serif')\n"
     ]
    }
   ],
   "source": [
    "import numpy as np\n",
    "import pandas as pd\n",
    "import matplotlib.pyplot as plt\n",
    "\n",
    "import torch\n",
    "import torch.nn as nn\n",
    "import torch.nn.functional as F\n",
    "from torch.utils.data import Dataset, DataLoader\n",
    "# from torch.autograd import Variable\n",
    "from sklearn.preprocessing import MinMaxScaler"
   ]
  },
  {
   "cell_type": "code",
   "execution_count": null,
   "metadata": {},
   "outputs": [],
   "source": [
    "class CNNLSTM(nn.Module):\n",
    "    def __init__(self, input_size, output_size,hidden_size,num_layers):\n",
    "        super(CNNLSTM, self).__init__()\n",
    "\n",
    "        self.conv1 = nn.Conv1d(input_size, 64, kernel_size=2, stride=1)\n",
    "        self.conv2 = nn.Conv1d(64,32,kernel_size=1, stride = 1, padding=1)\n",
    "        self.batch1 =nn.BatchNorm1d(32)\n",
    "        self.conv3 = nn.Conv1d(32,32,kernel_size=1, stride = 1, padding=1)\n",
    "        self.batch2 =nn.BatchNorm1d(32)\n",
    "        self.LSTM = nn.LSTM(input_size=5, hidden_size=hidden_size,\n",
    "                            num_layers=num_layers, batch_first=True)\n",
    "        self.fc1 = nn.Linear(32*hidden_size, output_size)\n",
    "        #self.fc2 = nn.Linear(1, 1)\n",
    "        \n",
    "\n",
    "    def forward(self, x):\n",
    "        #in_size1 = x.size(0)  # one batch\n",
    "        x = F.selu(self.conv1(x))\n",
    "        x = self.conv2(x)\n",
    "        x = F.selu(self.batch1(x))\n",
    "        x = self.conv3(x)\n",
    "        x = F.selu(self.batch2(x))\n",
    "        x, h = self.LSTM(x) \n",
    "        x = torch.reshape(x,(x.shape[0],x.shape[1]*x.shape[2]))\n",
    "        #in_size1 = x.size(0)  # one batch\n",
    "        #x = x.view(in_size1, -1)\n",
    "        # flatten the tensor x[:, -1, :]\n",
    "        x = self.fc1(x)\n",
    "        output = torch.sigmoid(x)\n",
    "        #output = self.fc2(x)\n",
    "\n",
    "    \n",
    "        \n",
    "        return output\n",
    "\n",
    "\n",
    "model = CNNLSTM(input_size, output_size,hidden_size, num_layers)\n",
    "print(model)"
   ]
  },
  {
   "cell_type": "code",
   "execution_count": null,
   "metadata": {},
   "outputs": [],
   "source": [
    "num_epochs = 800\n",
    "learning_rate = 0.01\n",
    "criterion = torch.nn.MSELoss()    # mean-squared error for regression\n",
    "optimizer = torch.optim.Adam(model.parameters(), lr=learning_rate)\n",
    "#optimizer = torch.optim.SGD(lstm.parameters(), lr=learning_rate)\n",
    "loss_list = []\n",
    "# Train the model\n",
    "for epoch in range(num_epochs):\n",
    "    outputs = model(trainX)\n",
    "    optimizer.zero_grad()\n",
    "    \n",
    "    # obtain the loss function\n",
    "    loss = criterion(outputs, trainY)\n",
    "    loss_list.append(loss)\n",
    "    loss.backward()\n",
    "    \n",
    "    optimizer.step()\n",
    "    if epoch % 100 == 0:\n",
    "      print(\"Epoch: %d, loss: %1.5f\" % (epoch, loss.item()))"
   ]
  }
 ],
 "metadata": {
  "kernelspec": {
   "display_name": "rul_prediction",
   "language": "python",
   "name": "python3"
  },
  "language_info": {
   "codemirror_mode": {
    "name": "ipython",
    "version": 3
   },
   "file_extension": ".py",
   "mimetype": "text/x-python",
   "name": "python",
   "nbconvert_exporter": "python",
   "pygments_lexer": "ipython3",
   "version": "3.8.16"
  },
  "orig_nbformat": 4
 },
 "nbformat": 4,
 "nbformat_minor": 2
}
