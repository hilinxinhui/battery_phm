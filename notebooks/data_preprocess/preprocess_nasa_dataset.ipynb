{
 "cells": [
  {
   "cell_type": "code",
   "execution_count": 1,
   "metadata": {},
   "outputs": [
    {
     "name": "stderr",
     "output_type": "stream",
     "text": [
      "Duplicate key in file PosixPath('/home/lxh/miniconda3/envs/rul_prediction/lib/python3.8/site-packages/matplotlib/mpl-data/matplotlibrc'), line 268 ('font.family         : sans-serif        ')\n",
      "Duplicate key in file PosixPath('/home/lxh/miniconda3/envs/rul_prediction/lib/python3.8/site-packages/matplotlib/mpl-data/matplotlibrc'), line 272 ('font.sans-serif: DejaVu Sans, Bitstream Vera Sans, Computer Modern Sans Serif, Lucida Grande, Verdana, Geneva, Lucid, Arial, Helvetica, Avant Garde, sans-serif')\n"
     ]
    }
   ],
   "source": [
    "import os\n",
    "from datetime import datetime\n",
    "from pathlib import Path\n",
    "\n",
    "# import h5py\n",
    "import scipy\n",
    "import json\n",
    "import pickle\n",
    "import csv\n",
    "\n",
    "import numpy as np\n",
    "import pandas as pd\n",
    "import matplotlib.pyplot as plt"
   ]
  },
  {
   "cell_type": "code",
   "execution_count": 2,
   "metadata": {},
   "outputs": [],
   "source": [
    "%matplotlib inline\n",
    "plt.rcParams[\"font.sans-serif\"]=[\"SimHei\"]\n",
    "plt.rcParams[\"axes.unicode_minus\"]=False"
   ]
  },
  {
   "cell_type": "code",
   "execution_count": 4,
   "metadata": {},
   "outputs": [],
   "source": [
    "def load_mat(file_path):\n",
    "    filename = os.path.basename(file_path).split(\".\")[0] # eg.B0005\n",
    "    data = scipy.io.loadmat(file_path)\n",
    "    # print(type(data)) # dict\n",
    "    # print(data.keys()) # dict_keys(['__header__', '__version__', '__globals__', 'B0005'])\n",
    "    # print(data[\"B0005\"][0][0][0][0].shape) # (616,)，实验持续了616个循环\n",
    "    # print(type(data[\"B0005\"][0][0][0][0][0])) # 用scipy读取mat文件，读取到结构体返回 numpy.void 类型数据\n",
    "\n",
    "    cols = data[filename][0][0][0][0]\n",
    "    \n",
    "    data = []\n",
    "    \n",
    "    for col in cols:\n",
    "        _ = {}\n",
    "        parameter = {}\n",
    "        keys = list(col[3][0][0].dtype.fields.keys())\n",
    "        if str(col[0][0]) != \"impedance\":\n",
    "            for idx, key in enumerate(keys):\n",
    "                parameter[key] = list(col[3][0][0][idx][0])\n",
    "\n",
    "        operation_type = str(col[0][0])\n",
    "        temperature = str(col[1][0][0])\n",
    "        time = str(datetime(\n",
    "            int(col[2][0][0]), int(col[2][0][1]), int(col[2][0][2]), int(col[2][0][3]), int(col[2][0][4]), int(col[2][0][5])\n",
    "        ))\n",
    "        _[\"type\"], _[\"temperature\"], _[\"time\"], _[\"data\"] = operation_type, temperature, time, parameter\n",
    "        data.append(_)\n",
    "\n",
    "    return data"
   ]
  },
  {
   "cell_type": "code",
   "execution_count": 6,
   "metadata": {},
   "outputs": [],
   "source": [
    "def extract_charge(data):\n",
    "    charge_input = []\n",
    "    bcycle = len(data) # 616\n",
    "    print(bcycle)\n",
    "    # 最后一组数据的测量点过少，舍弃\n",
    "    for i in range(0, bcycle - 1):\n",
    "        if data[i][\"type\"] == \"charge\":\n",
    "            end = len(data[i][\"data\"][\"Voltage_measured\"])\n",
    "            le = end % 10\n",
    "\n",
    "            vTemp = np.array(data[i][\"data\"][\"Voltage_measured\"][0:end-le])\n",
    "            vTemp = vTemp.reshape(int(len(vTemp)/10), -1, order=\"F\")\n",
    "            print(\"1: \", vTemp.shape)\n",
    "            print(vTemp)\n",
    "            vTemp = vTemp.mean(axis=0)\n",
    "            print(\"2: \", vTemp.shape)\n",
    "            print(vTemp)\n",
    "\n",
    "            iTemp = np.array(data[i][\"data\"][\"Current_measured\"][0:end-le])\n",
    "            iTemp = iTemp.reshape(int(len(iTemp)/10), -1, order=\"F\")\n",
    "            iTemp = iTemp.mean(axis=0)\n",
    "\n",
    "            tTemp = np.array(data[i][\"data\"][\"Temperature_measured\"][0:end-le])\n",
    "            tTemp = tTemp.reshape(int(len(tTemp)/10), -1, order=\"F\")\n",
    "            tTemp = tTemp.mean(axis=0)\n",
    "\n",
    "            charge_input.append(np.hstack((vTemp, iTemp, tTemp)))\n",
    "\n",
    "    charge_input = np.array(charge_input)\n",
    "    # print(charge_input.shape)\n",
    "    return charge_input\n",
    "\n",
    "def extract_discharge(data):\n",
    "    bcycle = len(data)\n",
    "    capacity = []\n",
    "    for i in range(0, bcycle):\n",
    "        if data[i][\"type\"] == \"discharge\":\n",
    "            capacity.append(data[i][\"data\"][\"Capacity\"][0])\n",
    "    return capacity\n",
    "\n",
    "def max_min_norm(charge_input, init, cap):\n",
    "    print(charge_input.shape)\n",
    "    \n",
    "    r = np.max(charge_input, axis=0) - np.min(charge_input, axis=0)\n",
    "    print(\"here\")\n",
    "    print(np.max(charge_input, axis=0))\n",
    "    print(np.min(charge_input, axis=0))\n",
    "    print(r)\n",
    "    print(\"here\")\n",
    "    X = (charge_input - np.min(charge_input, axis=0)) / r\n",
    "\n",
    "    comp = len(charge_input) - len(cap)\n",
    "    y = [init for _ in range(comp)] + cap\n",
    "    ym = np.min(y)\n",
    "    yr = np.max(y) - np.min(y)\n",
    "    y = (y - ym) / yr\n",
    "    return X, y, ym, yr\n",
    "\n",
    "def min_max_scaler(data):\n",
    "    min, max = np.min(data), np.max(data)\n",
    "    r = max - min\n",
    "    data = (data - min) / r\n",
    "    return  data, min, r\n",
    "\n",
    "def de_min_max_scaler(data, min, r):\n",
    "    return data * r + min"
   ]
  }
 ],
 "metadata": {
  "kernelspec": {
   "display_name": "rul_prediction",
   "language": "python",
   "name": "python3"
  },
  "language_info": {
   "codemirror_mode": {
    "name": "ipython",
    "version": 3
   },
   "file_extension": ".py",
   "mimetype": "text/x-python",
   "name": "python",
   "nbconvert_exporter": "python",
   "pygments_lexer": "ipython3",
   "version": "3.8.16"
  },
  "orig_nbformat": 4,
  "vscode": {
   "interpreter": {
    "hash": "5ebcd5f73d9e24f7f26eb943affb8f8d105c17199da4a86265f9a8f65dbe7943"
   }
  }
 },
 "nbformat": 4,
 "nbformat_minor": 2
}
