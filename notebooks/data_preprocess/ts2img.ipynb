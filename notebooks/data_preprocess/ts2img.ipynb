{
 "cells": [
  {
   "cell_type": "code",
   "execution_count": 29,
   "metadata": {},
   "outputs": [],
   "source": [
    "import os\n",
    "import pickle\n",
    "import numpy as np\n",
    "import matplotlib.pyplot as plt\n",
    "from sklearn.preprocessing import MinMaxScaler"
   ]
  },
  {
   "cell_type": "code",
   "execution_count": 30,
   "metadata": {},
   "outputs": [],
   "source": [
    "def sliding_window(raw_data, window_size, stride=1):\n",
    "    res = []\n",
    "    left = right = 0\n",
    "    while left + window_size <= len(raw_data):\n",
    "        res.append(raw_data[left: left + window_size])\n",
    "        left += stride\n",
    "        right += stride\n",
    "    return np.array(res, dtype=np.float32)\n",
    "\n",
    "def data_extend(voltage, current, temperature, window_size=225, stride=45):\n",
    "    assert len(voltage) == len(current) and len(current) == len(temperature), \"Error!\"\n",
    "    voltage_extend = sliding_window(voltage, window_size=window_size, stride=stride)\n",
    "    current_extend = sliding_window(current, window_size=window_size, stride=stride)\n",
    "    temperature_extend = sliding_window(temperature, window_size=window_size, stride=stride)\n",
    "\n",
    "    return np.array((voltage_extend, current_extend, temperature_extend))\n",
    "\n",
    "def build_samples(voltage, current, temperature, target):\n",
    "    samples = []\n",
    "    data_extended = data_extend(voltage, current, temperature)\n",
    "    for j in range(data_extended.shape[1]):\n",
    "        seq = np.vstack((data_extended[0][j], data_extended[1][j], data_extended[2][j]))\n",
    "        samples.append((seq, target))\n",
    "    return np.array(samples, dtype=object)"
   ]
  },
  {
   "cell_type": "code",
   "execution_count": 31,
   "metadata": {},
   "outputs": [],
   "source": [
    "dataset_path = \"../data/batch3.pkl\"\n",
    "with open(dataset_path, \"rb\") as f:\n",
    "    dataset = pickle.load(f)"
   ]
  },
  {
   "cell_type": "code",
   "execution_count": 32,
   "metadata": {},
   "outputs": [],
   "source": [
    "batteries = dict()\n",
    "keys = list(dataset.keys())[0:16] # 取前16块电芯数据\n",
    "rated_capacity = 1.1\n",
    "\n",
    "v_scaler = MinMaxScaler(feature_range=(-1, 1))\n",
    "i_scaler = MinMaxScaler(feature_range=(-1, 1))\n",
    "t_scaler = MinMaxScaler(feature_range=(-1, 1))\n",
    "qc_scaler = MinMaxScaler(feature_range=(0, 1))\n",
    "qd_scaler = MinMaxScaler(feature_range=(0, 1))\n",
    "\n",
    "for idx, key in enumerate(keys):\n",
    "    # 每次取一块电池的数据 dataset[key]\n",
    "    \n",
    "    # 构造循环数据\n",
    "    # print(idx, dataset[key][\"cycles\"].keys())\n",
    "    cycle_data = dict()\n",
    "    for i in dataset[key][\"cycles\"].keys():\n",
    "        cycle_data[int(i)] = {\n",
    "            \"V\": v_scaler.fit_transform(dataset[key][\"cycles\"][i][\"V\"].astype(np.float32).reshape(-1, 1)).flatten(),\n",
    "            \"I\": i_scaler.fit_transform(dataset[key][\"cycles\"][i][\"I\"].astype(np.float32).reshape(-1, 1)).flatten(),\n",
    "            # \"T\": t_scaler.fit_transform(dataset[key][\"cycles\"][i][\"T\"].astype(np.float32).reshape(-1, 1)).flatten(),\n",
    "            \"Q\": qc_scaler.fit_transform(dataset[key][\"cycles\"][i][\"Qc\"].astype(np.float32).reshape(-1, 1)).flatten() - qd_scaler.fit_transform(dataset[key][\"cycles\"][i][\"Qd\"].astype(np.float32).reshape(-1, 1)).flatten(),\n",
    "        }\n",
    "\n",
    "    # 构造数据集\n",
    "    batteries[idx] = {\n",
    "        \"cycle_len\": int(dataset[key][\"cycle_life\"].item()) - 1,    # 循环圈数\n",
    "        \"charge_policy\": dataset[key][\"charge_policy\"],             # 充放电配置\n",
    "        \"cycle_data\": cycle_data,                                   # 循环数据\n",
    "        \"discharge_capacity\": dataset[key][\"summary\"][\"QD\"]         # 放电容量\n",
    "    }\n",
    "\n",
    "# print(\"----- 电池数据 -----\")\n",
    "# for cnt in range(len(batterys)):\n",
    "#     print(f\"电池 {keys[cnt]} 的循环圈数： \", len(batterys[cnt][\"cycle_data\"].keys()))\n",
    "\n",
    "# print(\"----- Battery 1 电池循环数据 -----\")\n",
    "# test_battery = batteries[0]\n",
    "# print(\"循环圈数： \", test_battery[\"cycle_len\"], \"， 充电策略： \", test_battery[\"charge_policy\"])\n",
    "# print(\"放电容量： \", test_battery[\"discharge_capacity\"])\n",
    "# print(\"循环数据： \")\n",
    "# # print(test_battery[\"cycle_data\"])\n",
    "# for key in test_battery[\"cycle_data\"].keys():\n",
    "#     print(\"  \", key, \"：\")\n",
    "#     print(\"\\t\", test_battery[\"cycle_data\"][key]) # 打印第一块电池每个循环的VIT信息"
   ]
  },
  {
   "cell_type": "code",
   "execution_count": 33,
   "metadata": {},
   "outputs": [
    {
     "name": "stdout",
     "output_type": "stream",
     "text": [
      "cell b3c0 data save to path: ../data/124_commercial_batteries/ts2img_dataset/b3c00.npy\n",
      "cell b3c1 data save to path: ../data/124_commercial_batteries/ts2img_dataset/b3c01.npy\n",
      "cell b3c2 data save to path: ../data/124_commercial_batteries/ts2img_dataset/b3c02.npy\n",
      "cell b3c3 data save to path: ../data/124_commercial_batteries/ts2img_dataset/b3c03.npy\n",
      "cell b3c4 data save to path: ../data/124_commercial_batteries/ts2img_dataset/b3c04.npy\n",
      "cell b3c5 data save to path: ../data/124_commercial_batteries/ts2img_dataset/b3c05.npy\n",
      "cell b3c6 data save to path: ../data/124_commercial_batteries/ts2img_dataset/b3c06.npy\n",
      "cell b3c7 data save to path: ../data/124_commercial_batteries/ts2img_dataset/b3c07.npy\n",
      "cell b3c8 data save to path: ../data/124_commercial_batteries/ts2img_dataset/b3c08.npy\n",
      "cell b3c9 data save to path: ../data/124_commercial_batteries/ts2img_dataset/b3c09.npy\n",
      "cell b3c10 data save to path: ../data/124_commercial_batteries/ts2img_dataset/b3c10.npy\n",
      "cell b3c11 data save to path: ../data/124_commercial_batteries/ts2img_dataset/b3c11.npy\n",
      "cell b3c12 data save to path: ../data/124_commercial_batteries/ts2img_dataset/b3c12.npy\n",
      "cell b3c13 data save to path: ../data/124_commercial_batteries/ts2img_dataset/b3c13.npy\n",
      "cell b3c14 data save to path: ../data/124_commercial_batteries/ts2img_dataset/b3c14.npy\n",
      "cell b3c15 data save to path: ../data/124_commercial_batteries/ts2img_dataset/b3c15.npy\n"
     ]
    }
   ],
   "source": [
    "# 保存多元时间序列数据和标签到npy文件，格式为（sequence，target）\n",
    "names = [\"b3c\" + str(num).rjust(2, \"0\") for num in range(16)]\n",
    "\n",
    "storage_path = \"../data/124_commercial_batteries/ts2img_dataset\"\n",
    "for idx, key in enumerate(keys):\n",
    "    dataset = []\n",
    "    cell = batteries[idx]\n",
    "    cycle_len = cell[\"cycle_len\"]\n",
    "    # print(type(cycle_len), cycle_len)\n",
    "    for i in range(cycle_len):\n",
    "        # plt.plot(cell[\"cycle_data\"][i][\"V\"]) # 绘制电压曲线\n",
    "        # plt.plot(cell[\"cycle_data\"][i][\"I\"]) # 绘制电流曲线\n",
    "        # plt.plot(cell[\"cycle_data\"][i][\"Q\"]) # 绘制充放电电量曲线\n",
    "        # plt.legend([\"V\", \"I\", \"Q\"])\n",
    "        # plt.plot(cell[\"cycle_data\"][i][\"T\"]) # 绘制温度曲线\n",
    "        # plt.plot((cell[\"cycle_data\"][i][\"QC\"] - cell[\"cycle_data\"][i][\"QD\"]) / rated_capacity) # 绘制SOC曲线（使用额定容量）\n",
    "        # print(np.argmax(cell[\"cycle_data\"][i][\"Q\"])) # 返回SOC序列中的最大值索引，为充放电切换时刻\n",
    "        samples = build_samples(cell[\"cycle_data\"][i][\"V\"], cell[\"cycle_data\"][i][\"I\"], cell[\"cycle_data\"][i][\"Q\"], cell[\"discharge_capacity\"][i])\n",
    "        dataset.append(samples)\n",
    "    #     break\n",
    "    # break\n",
    "    # 拉平数据集（消除充放电循环维度）\n",
    "    dataset_to_save = []\n",
    "    for cycle_data in dataset:\n",
    "        for sample in cycle_data:\n",
    "            dataset_to_save.append(np.array(sample))\n",
    "\n",
    "    np.save(os.path.join(storage_path, names[idx] + \".npy\"), np.array(dataset_to_save))\n",
    "    print(f\"cell {key} data save to path: {os.path.join(storage_path, names[idx] + '.npy')}\")"
   ]
  }
 ],
 "metadata": {
  "kernelspec": {
   "display_name": "rul_prediction",
   "language": "python",
   "name": "python3"
  },
  "language_info": {
   "codemirror_mode": {
    "name": "ipython",
    "version": 3
   },
   "file_extension": ".py",
   "mimetype": "text/x-python",
   "name": "python",
   "nbconvert_exporter": "python",
   "pygments_lexer": "ipython3",
   "version": "3.8.16"
  },
  "orig_nbformat": 4
 },
 "nbformat": 4,
 "nbformat_minor": 2
}
