{
 "cells": [
  {
   "cell_type": "code",
   "execution_count": 1,
   "metadata": {},
   "outputs": [],
   "source": [
    "import os\n",
    "import numpy as np\n",
    "import pandas as pd\n",
    "import glob\n",
    "import matplotlib.pyplot as plt\n",
    "%matplotlib inline"
   ]
  },
  {
   "cell_type": "code",
   "execution_count": 2,
   "metadata": {},
   "outputs": [
    {
     "name": "stdout",
     "output_type": "stream",
     "text": [
      "Load Dataset CS2_35 ...\n",
      "Load ../../data/raw_data/calce/CS2_35/CS2_35_12_13_10.xlsx ...\n",
      "Load ../../data/raw_data/calce/CS2_35/CS2_35_11_08_10.xlsx ...\n",
      "Load ../../data/raw_data/calce/CS2_35/CS2_35_10_22_10.xlsx ...\n",
      "Load ../../data/raw_data/calce/CS2_35/CS2_35_11_24_10.xlsx ...\n",
      "Load ../../data/raw_data/calce/CS2_35/CS2_35_8_17_10.xlsx ...\n",
      "Load ../../data/raw_data/calce/CS2_35/CS2_35_9_30_10.xlsx ...\n",
      "Load ../../data/raw_data/calce/CS2_35/CS2_35_12_20_10.xlsx ...\n",
      "Load ../../data/raw_data/calce/CS2_35/CS2_35_1_10_11.xlsx ...\n",
      "Load ../../data/raw_data/calce/CS2_35/CS2_35_9_8_10.xlsx ...\n",
      "Load ../../data/raw_data/calce/CS2_35/CS2_35_11_01_10.xlsx ...\n",
      "Load ../../data/raw_data/calce/CS2_35/CS2_35_8_18_10.xlsx ...\n",
      "Load ../../data/raw_data/calce/CS2_35/CS2_35_2_10_11.xlsx ...\n",
      "Load ../../data/raw_data/calce/CS2_35/CS2_35_11_23_10.xlsx ...\n",
      "Load ../../data/raw_data/calce/CS2_35/CS2_35_12_06_10.xlsx ...\n",
      "Load ../../data/raw_data/calce/CS2_35/CS2_35_1_24_11.xlsx ...\n",
      "Load ../../data/raw_data/calce/CS2_35/CS2_35_10_29_10.xlsx ...\n",
      "Load ../../data/raw_data/calce/CS2_35/CS2_35_1_28_11.xlsx ...\n",
      "Load ../../data/raw_data/calce/CS2_35/CS2_35_8_19_10.xlsx ...\n",
      "Load ../../data/raw_data/calce/CS2_35/CS2_35_12_23_10.xlsx ...\n",
      "Load ../../data/raw_data/calce/CS2_35/CS2_35_9_21_10.xlsx ...\n",
      "Load ../../data/raw_data/calce/CS2_35/CS2_35_8_30_10.xlsx ...\n",
      "Load ../../data/raw_data/calce/CS2_35/CS2_35_1_18_11.xlsx ...\n",
      "Load ../../data/raw_data/calce/CS2_35/CS2_35_10_15_10.xlsx ...\n",
      "Load ../../data/raw_data/calce/CS2_35/CS2_35_2_4_11.xlsx ...\n",
      "Load ../../data/raw_data/calce/CS2_35/CS2_35_9_7_10.xlsx ...\n",
      "Load ../../data/raw_data/calce/CS2_35/CS2_35_8_17_10.xlsx ...\n",
      "Load ../../data/raw_data/calce/CS2_35/CS2_35_8_18_10.xlsx ...\n",
      "Load ../../data/raw_data/calce/CS2_35/CS2_35_8_19_10.xlsx ...\n",
      "Load ../../data/raw_data/calce/CS2_35/CS2_35_8_30_10.xlsx ...\n",
      "Load ../../data/raw_data/calce/CS2_35/CS2_35_9_7_10.xlsx ...\n",
      "Load ../../data/raw_data/calce/CS2_35/CS2_35_9_8_10.xlsx ...\n",
      "Load ../../data/raw_data/calce/CS2_35/CS2_35_9_21_10.xlsx ...\n",
      "Load ../../data/raw_data/calce/CS2_35/CS2_35_9_30_10.xlsx ...\n",
      "Load ../../data/raw_data/calce/CS2_35/CS2_35_10_15_10.xlsx ...\n",
      "Load ../../data/raw_data/calce/CS2_35/CS2_35_10_22_10.xlsx ...\n",
      "Load ../../data/raw_data/calce/CS2_35/CS2_35_10_29_10.xlsx ...\n",
      "Load ../../data/raw_data/calce/CS2_35/CS2_35_11_01_10.xlsx ...\n",
      "Load ../../data/raw_data/calce/CS2_35/CS2_35_11_08_10.xlsx ...\n",
      "Load ../../data/raw_data/calce/CS2_35/CS2_35_11_23_10.xlsx ...\n",
      "Load ../../data/raw_data/calce/CS2_35/CS2_35_11_24_10.xlsx ...\n",
      "Load ../../data/raw_data/calce/CS2_35/CS2_35_12_06_10.xlsx ...\n",
      "Load ../../data/raw_data/calce/CS2_35/CS2_35_12_13_10.xlsx ...\n",
      "Load ../../data/raw_data/calce/CS2_35/CS2_35_12_20_10.xlsx ...\n",
      "Load ../../data/raw_data/calce/CS2_35/CS2_35_12_23_10.xlsx ...\n",
      "Load ../../data/raw_data/calce/CS2_35/CS2_35_1_10_11.xlsx ...\n",
      "Load ../../data/raw_data/calce/CS2_35/CS2_35_1_18_11.xlsx ...\n",
      "Load ../../data/raw_data/calce/CS2_35/CS2_35_1_24_11.xlsx ...\n",
      "Load ../../data/raw_data/calce/CS2_35/CS2_35_1_28_11.xlsx ...\n",
      "Load ../../data/raw_data/calce/CS2_35/CS2_35_2_4_11.xlsx ...\n",
      "Load ../../data/raw_data/calce/CS2_35/CS2_35_2_10_11.xlsx ...\n",
      "Load Dataset CS2_36 ...\n",
      "Load ../../data/raw_data/calce/CS2_36/CS2_36_8_18_10.xlsx ...\n",
      "Load ../../data/raw_data/calce/CS2_36/CS2_36_11_24_10.xlsx ...\n",
      "Load ../../data/raw_data/calce/CS2_36/CS2_36_8_19_10.xlsx ...\n",
      "Load ../../data/raw_data/calce/CS2_36/CS2_36_10_04_10.xlsx ...\n",
      "Load ../../data/raw_data/calce/CS2_36/CS2_36_1_18_11.xlsx ...\n",
      "Load ../../data/raw_data/calce/CS2_36/CS2_36_12_23_10.xlsx ...\n",
      "Load ../../data/raw_data/calce/CS2_36/CS2_36_10_21_10.xlsx ...\n",
      "Load ../../data/raw_data/calce/CS2_36/CS2_36_11_22_10.xlsx ...\n",
      "Load ../../data/raw_data/calce/CS2_36/CS2_36_8_30_10.xlsx ...\n",
      "Load ../../data/raw_data/calce/CS2_36/CS2_36_9_7_10.xlsx ...\n",
      "Load ../../data/raw_data/calce/CS2_36/CS2_36_10_28_10.xlsx ...\n",
      "Load ../../data/raw_data/calce/CS2_36/CS2_36_1_28_11.xlsx ...\n",
      "Load ../../data/raw_data/calce/CS2_36/CS2_36_9_14_10.xlsx ...\n",
      "Load ../../data/raw_data/calce/CS2_36/CS2_36_1_24_11.xlsx ...\n",
      "Load ../../data/raw_data/calce/CS2_36/CS2_36_2_3_11.xlsx ...\n",
      "Load ../../data/raw_data/calce/CS2_36/CS2_36_12_20_10.xlsx ...\n",
      "Load ../../data/raw_data/calce/CS2_36/CS2_36_9_30_10.xlsx ...\n",
      "Load ../../data/raw_data/calce/CS2_36/CS2_36_10_14_10.xlsx ...\n",
      "Load ../../data/raw_data/calce/CS2_36/CS2_36_11_15_10.xlsx ...\n",
      "Load ../../data/raw_data/calce/CS2_36/CS2_36_10_05_10.xlsx ...\n",
      "Load ../../data/raw_data/calce/CS2_36/CS2_36_8_17_10.xlsx ...\n",
      "Load ../../data/raw_data/calce/CS2_36/CS2_36_12_13_10.xlsx ...\n",
      "Load ../../data/raw_data/calce/CS2_36/CS2_36_12_06_10.xlsx ...\n",
      "Load ../../data/raw_data/calce/CS2_36/CS2_36_11_01_10.xlsx ...\n",
      "Load ../../data/raw_data/calce/CS2_36/CS2_36_1_10_11.xlsx ...\n",
      "Load ../../data/raw_data/calce/CS2_36/CS2_36_9_21_10.xlsx ...\n",
      "Load ../../data/raw_data/calce/CS2_36/CS2_36_8_17_10.xlsx ...\n",
      "Load ../../data/raw_data/calce/CS2_36/CS2_36_8_18_10.xlsx ...\n",
      "Load ../../data/raw_data/calce/CS2_36/CS2_36_8_19_10.xlsx ...\n",
      "Load ../../data/raw_data/calce/CS2_36/CS2_36_8_30_10.xlsx ...\n",
      "Load ../../data/raw_data/calce/CS2_36/CS2_36_9_7_10.xlsx ...\n",
      "Load ../../data/raw_data/calce/CS2_36/CS2_36_9_14_10.xlsx ...\n",
      "Load ../../data/raw_data/calce/CS2_36/CS2_36_9_21_10.xlsx ...\n",
      "Load ../../data/raw_data/calce/CS2_36/CS2_36_9_30_10.xlsx ...\n",
      "Load ../../data/raw_data/calce/CS2_36/CS2_36_10_04_10.xlsx ...\n",
      "Load ../../data/raw_data/calce/CS2_36/CS2_36_10_05_10.xlsx ...\n",
      "Load ../../data/raw_data/calce/CS2_36/CS2_36_10_14_10.xlsx ...\n",
      "Load ../../data/raw_data/calce/CS2_36/CS2_36_10_21_10.xlsx ...\n",
      "Load ../../data/raw_data/calce/CS2_36/CS2_36_10_28_10.xlsx ...\n",
      "Load ../../data/raw_data/calce/CS2_36/CS2_36_11_01_10.xlsx ...\n",
      "Load ../../data/raw_data/calce/CS2_36/CS2_36_11_15_10.xlsx ...\n",
      "Load ../../data/raw_data/calce/CS2_36/CS2_36_11_22_10.xlsx ...\n",
      "Load ../../data/raw_data/calce/CS2_36/CS2_36_11_24_10.xlsx ...\n",
      "Load ../../data/raw_data/calce/CS2_36/CS2_36_12_06_10.xlsx ...\n",
      "Load ../../data/raw_data/calce/CS2_36/CS2_36_12_13_10.xlsx ...\n",
      "Load ../../data/raw_data/calce/CS2_36/CS2_36_12_20_10.xlsx ...\n",
      "Load ../../data/raw_data/calce/CS2_36/CS2_36_12_23_10.xlsx ...\n",
      "Load ../../data/raw_data/calce/CS2_36/CS2_36_1_10_11.xlsx ...\n",
      "Load ../../data/raw_data/calce/CS2_36/CS2_36_1_18_11.xlsx ...\n",
      "Load ../../data/raw_data/calce/CS2_36/CS2_36_1_24_11.xlsx ...\n",
      "Load ../../data/raw_data/calce/CS2_36/CS2_36_1_28_11.xlsx ...\n",
      "Load ../../data/raw_data/calce/CS2_36/CS2_36_2_3_11.xlsx ...\n",
      "Load Dataset CS2_37 ...\n",
      "Load ../../data/raw_data/calce/CS2_37/CS2_37_8_30_10.xlsx ...\n",
      "Load ../../data/raw_data/calce/CS2_37/CS2_37_8_18_10.xlsx ...\n",
      "Load ../../data/raw_data/calce/CS2_37/CS2_37_12_13_10.xlsx ...\n",
      "Load ../../data/raw_data/calce/CS2_37/CS2_37_12_06_10.xlsx ...\n",
      "Load ../../data/raw_data/calce/CS2_37/CS2_37_12_20_10.xlsx ...\n",
      "Load ../../data/raw_data/calce/CS2_37/CS2_37_8_19_10.xlsx ...\n",
      "Load ../../data/raw_data/calce/CS2_37/CS2_37_11_08_10.xlsx ...\n",
      "Load ../../data/raw_data/calce/CS2_37/CS2_37_10_28_10.xlsx ...\n",
      "Load ../../data/raw_data/calce/CS2_37/CS2_37_2_3_11.xlsx ...\n",
      "Load ../../data/raw_data/calce/CS2_37/CS2_37_10_14_10.xlsx ...\n",
      "Load ../../data/raw_data/calce/CS2_37/CS2_37_9_14_10.xlsx ...\n",
      "Load ../../data/raw_data/calce/CS2_37/CS2_37_1_18_11.xlsx ...\n",
      "Load ../../data/raw_data/calce/CS2_37/CS2_37_10_05_10.xlsx ...\n",
      "Load ../../data/raw_data/calce/CS2_37/CS2_37_11_15_10.xlsx ...\n",
      "Load ../../data/raw_data/calce/CS2_37/CS2_37_1_24_11.xlsx ...\n",
      "Load ../../data/raw_data/calce/CS2_37/CS2_37_10_04_10.xlsx ...\n",
      "Load ../../data/raw_data/calce/CS2_37/CS2_37_10_21_10.xlsx ...\n",
      "Load ../../data/raw_data/calce/CS2_37/CS2_37_9_28_10.xlsx ...\n",
      "Load ../../data/raw_data/calce/CS2_37/CS2_37_11_24_10.xlsx ...\n",
      "Load ../../data/raw_data/calce/CS2_37/CS2_37_9_7_10.xlsx ...\n",
      "Load ../../data/raw_data/calce/CS2_37/CS2_37_1_28_11.xlsx ...\n",
      "Load ../../data/raw_data/calce/CS2_37/CS2_37_11_01_10.xlsx ...\n",
      "Load ../../data/raw_data/calce/CS2_37/CS2_37_11_22_10.xlsx ...\n",
      "Load ../../data/raw_data/calce/CS2_37/CS2_37_12_23_10.xlsx ...\n",
      "Load ../../data/raw_data/calce/CS2_37/CS2_37_8_17_10.xlsx ...\n",
      "Load ../../data/raw_data/calce/CS2_37/CS2_37_9_21_10.xlsx ...\n",
      "Load ../../data/raw_data/calce/CS2_37/CS2_37_1_10_11.xlsx ...\n",
      "Load ../../data/raw_data/calce/CS2_37/CS2_37_8_17_10.xlsx ...\n",
      "Load ../../data/raw_data/calce/CS2_37/CS2_37_8_18_10.xlsx ...\n",
      "Load ../../data/raw_data/calce/CS2_37/CS2_37_8_19_10.xlsx ...\n",
      "Load ../../data/raw_data/calce/CS2_37/CS2_37_8_30_10.xlsx ...\n",
      "Load ../../data/raw_data/calce/CS2_37/CS2_37_9_7_10.xlsx ...\n",
      "Load ../../data/raw_data/calce/CS2_37/CS2_37_9_14_10.xlsx ...\n",
      "Load ../../data/raw_data/calce/CS2_37/CS2_37_9_21_10.xlsx ...\n",
      "Load ../../data/raw_data/calce/CS2_37/CS2_37_9_28_10.xlsx ...\n",
      "Load ../../data/raw_data/calce/CS2_37/CS2_37_10_04_10.xlsx ...\n",
      "Load ../../data/raw_data/calce/CS2_37/CS2_37_10_05_10.xlsx ...\n",
      "Load ../../data/raw_data/calce/CS2_37/CS2_37_10_14_10.xlsx ...\n",
      "Load ../../data/raw_data/calce/CS2_37/CS2_37_10_21_10.xlsx ...\n",
      "Load ../../data/raw_data/calce/CS2_37/CS2_37_10_28_10.xlsx ...\n",
      "Load ../../data/raw_data/calce/CS2_37/CS2_37_11_01_10.xlsx ...\n",
      "Load ../../data/raw_data/calce/CS2_37/CS2_37_11_08_10.xlsx ...\n",
      "Load ../../data/raw_data/calce/CS2_37/CS2_37_11_15_10.xlsx ...\n",
      "Load ../../data/raw_data/calce/CS2_37/CS2_37_11_22_10.xlsx ...\n",
      "Load ../../data/raw_data/calce/CS2_37/CS2_37_11_24_10.xlsx ...\n",
      "Load ../../data/raw_data/calce/CS2_37/CS2_37_12_06_10.xlsx ...\n",
      "Load ../../data/raw_data/calce/CS2_37/CS2_37_12_13_10.xlsx ...\n",
      "Load ../../data/raw_data/calce/CS2_37/CS2_37_12_20_10.xlsx ...\n",
      "Load ../../data/raw_data/calce/CS2_37/CS2_37_12_23_10.xlsx ...\n",
      "Load ../../data/raw_data/calce/CS2_37/CS2_37_1_10_11.xlsx ...\n",
      "Load ../../data/raw_data/calce/CS2_37/CS2_37_1_18_11.xlsx ...\n",
      "Load ../../data/raw_data/calce/CS2_37/CS2_37_1_24_11.xlsx ...\n",
      "Load ../../data/raw_data/calce/CS2_37/CS2_37_1_28_11.xlsx ...\n",
      "Load ../../data/raw_data/calce/CS2_37/CS2_37_2_3_11.xlsx ...\n",
      "Load Dataset CS2_38 ...\n",
      "Load ../../data/raw_data/calce/CS2_38/CS2_38_2_4_11.xlsx ...\n",
      "Load ../../data/raw_data/calce/CS2_38/CS2_38_8_17_10.xlsx ...\n",
      "Load ../../data/raw_data/calce/CS2_38/CS2_38_10_04_10.xlsx ...\n",
      "Load ../../data/raw_data/calce/CS2_38/CS2_38_10_05_10.xlsx ...\n",
      "Load ../../data/raw_data/calce/CS2_38/CS2_38_2_10_11.xlsx ...\n",
      "Load ../../data/raw_data/calce/CS2_38/CS2_38_10_14_10.xlsx ...\n",
      "Load ../../data/raw_data/calce/CS2_38/CS2_38_11_01_10.xlsx ...\n",
      "Load ../../data/raw_data/calce/CS2_38/CS2_38_1_18_11.xlsx ...\n",
      "Load ../../data/raw_data/calce/CS2_38/CS2_38_8_19_10.xlsx ...\n",
      "Load ../../data/raw_data/calce/CS2_38/CS2_38_12_20_10.xlsx ...\n",
      "Load ../../data/raw_data/calce/CS2_38/CS2_38_10_28_10.xlsx ...\n",
      "Load ../../data/raw_data/calce/CS2_38/CS2_38_11_22_10.xlsx ...\n",
      "Load ../../data/raw_data/calce/CS2_38/CS2_38_12_13_10.xlsx ...\n",
      "Load ../../data/raw_data/calce/CS2_38/CS2_38_9_28_10.xlsx ...\n",
      "Load ../../data/raw_data/calce/CS2_38/CS2_38_9_21_10.xlsx ...\n",
      "Load ../../data/raw_data/calce/CS2_38/CS2_38_11_08_10.xlsx ...\n",
      "Load ../../data/raw_data/calce/CS2_38/CS2_38_1_24_11.xlsx ...\n",
      "Load ../../data/raw_data/calce/CS2_38/CS2_38_12_23_10.xlsx ...\n",
      "Load ../../data/raw_data/calce/CS2_38/CS2_38_10_21_10.xlsx ...\n",
      "Load ../../data/raw_data/calce/CS2_38/CS2_38_8_18_10.xlsx ...\n",
      "Load ../../data/raw_data/calce/CS2_38/CS2_38_12_06_10.xlsx ...\n",
      "Load ../../data/raw_data/calce/CS2_38/CS2_38_1_28_11.xlsx ...\n",
      "Load ../../data/raw_data/calce/CS2_38/CS2_38_11_24_10.xlsx ...\n",
      "Load ../../data/raw_data/calce/CS2_38/CS2_38_1_10_11.xlsx ...\n",
      "Load ../../data/raw_data/calce/CS2_38/CS2_38_9_14_10.xlsx ...\n",
      "Load ../../data/raw_data/calce/CS2_38/CS2_38_11_15_10.xlsx ...\n",
      "Load ../../data/raw_data/calce/CS2_38/CS2_38_8_30_10.xlsx ...\n",
      "Load ../../data/raw_data/calce/CS2_38/CS2_38_9_7_10.xlsx ...\n",
      "Load ../../data/raw_data/calce/CS2_38/CS2_38_8_17_10.xlsx ...\n",
      "Load ../../data/raw_data/calce/CS2_38/CS2_38_8_18_10.xlsx ...\n",
      "Load ../../data/raw_data/calce/CS2_38/CS2_38_8_19_10.xlsx ...\n",
      "Load ../../data/raw_data/calce/CS2_38/CS2_38_8_30_10.xlsx ...\n",
      "Load ../../data/raw_data/calce/CS2_38/CS2_38_9_7_10.xlsx ...\n",
      "Load ../../data/raw_data/calce/CS2_38/CS2_38_9_14_10.xlsx ...\n",
      "Load ../../data/raw_data/calce/CS2_38/CS2_38_9_21_10.xlsx ...\n",
      "Load ../../data/raw_data/calce/CS2_38/CS2_38_9_28_10.xlsx ...\n",
      "Load ../../data/raw_data/calce/CS2_38/CS2_38_10_04_10.xlsx ...\n",
      "Load ../../data/raw_data/calce/CS2_38/CS2_38_10_05_10.xlsx ...\n",
      "Load ../../data/raw_data/calce/CS2_38/CS2_38_10_14_10.xlsx ...\n",
      "Load ../../data/raw_data/calce/CS2_38/CS2_38_10_21_10.xlsx ...\n",
      "Load ../../data/raw_data/calce/CS2_38/CS2_38_10_28_10.xlsx ...\n",
      "Load ../../data/raw_data/calce/CS2_38/CS2_38_11_01_10.xlsx ...\n",
      "Load ../../data/raw_data/calce/CS2_38/CS2_38_11_08_10.xlsx ...\n",
      "Load ../../data/raw_data/calce/CS2_38/CS2_38_11_15_10.xlsx ...\n",
      "Load ../../data/raw_data/calce/CS2_38/CS2_38_11_22_10.xlsx ...\n",
      "Load ../../data/raw_data/calce/CS2_38/CS2_38_11_24_10.xlsx ...\n",
      "Load ../../data/raw_data/calce/CS2_38/CS2_38_12_06_10.xlsx ...\n",
      "Load ../../data/raw_data/calce/CS2_38/CS2_38_12_13_10.xlsx ...\n",
      "Load ../../data/raw_data/calce/CS2_38/CS2_38_12_20_10.xlsx ...\n",
      "Load ../../data/raw_data/calce/CS2_38/CS2_38_12_23_10.xlsx ...\n",
      "Load ../../data/raw_data/calce/CS2_38/CS2_38_1_10_11.xlsx ...\n",
      "Load ../../data/raw_data/calce/CS2_38/CS2_38_1_18_11.xlsx ...\n",
      "Load ../../data/raw_data/calce/CS2_38/CS2_38_1_24_11.xlsx ...\n",
      "Load ../../data/raw_data/calce/CS2_38/CS2_38_1_28_11.xlsx ...\n",
      "Load ../../data/raw_data/calce/CS2_38/CS2_38_2_10_11.xlsx ...\n",
      "Load ../../data/raw_data/calce/CS2_38/CS2_38_2_4_11.xlsx ...\n"
     ]
    }
   ],
   "source": [
    "# 丢弃离群点\n",
    "def drop_outlier(array, count, bins):\n",
    "    index = []\n",
    "    range_ = np.arange(1, count, bins)\n",
    "    for i in range_[:-1]:\n",
    "        array_lim = array[i : i + bins]\n",
    "        sigma = np.std(array_lim)\n",
    "        mean = np.mean(array_lim)\n",
    "        th_max, th_min = mean + sigma * 2, mean - sigma * 2\n",
    "        idx = np.where((array_lim < th_max) & (array_lim > th_min))\n",
    "        idx = idx[0] + i\n",
    "        index.extend(list(idx))\n",
    "    return np.array(index)\n",
    "\n",
    "# 从xlsx文件中提取当电池信息\n",
    "battery_names = [\"CS2_35\", \"CS2_36\", \"CS2_37\", \"CS2_38\"]\n",
    "data_path = \"../../data/raw_data/calce/\"\n",
    "calce_data = {}\n",
    "for name in battery_names:\n",
    "    print(\"Load Dataset \" + name + \" ...\")\n",
    "    path = glob.glob(data_path + name + \"/*.xlsx\")\n",
    "    dates = []\n",
    "    for p in path:\n",
    "        df = pd.read_excel(p, sheet_name=1)\n",
    "        print(\"Load \" + str(p) + \" ...\")\n",
    "        dates.append(df[\"Date_Time\"][0])\n",
    "    idx = np.argsort(dates)\n",
    "    path_sorted = np.array(path)[idx]\n",
    "\n",
    "    count = 0\n",
    "    discharge_capacities = []\n",
    "    health_indicator = []\n",
    "    internal_resistance = []\n",
    "    CCCT = []\n",
    "    CVCT = []\n",
    "    for p in path_sorted:\n",
    "        df = pd.read_excel(p, sheet_name=1)\n",
    "        print(\"Load \" + str(p) + \" ...\")\n",
    "        cycles = list(set(df[\"Cycle_Index\"]))\n",
    "        for c in cycles:\n",
    "            df_lim = df[df[\"Cycle_Index\"] == c]\n",
    "            # Charging\n",
    "            df_c = df_lim[(df_lim[\"Step_Index\"] == 2) | (df_lim[\"Step_Index\"] == 4)]\n",
    "            c_v = df_c[\"Voltage(V)\"]\n",
    "            c_c = df_c[\"Current(A)\"]\n",
    "            c_t = df_c[\"Test_Time(s)\"]\n",
    "            # CC or CV\n",
    "            df_cc = df_lim[df_lim[\"Step_Index\"] == 2]\n",
    "            df_cv = df_lim[df_lim[\"Step_Index\"] == 4]\n",
    "            CCCT.append(np.max(df_cc[\"Test_Time(s)\"]) - np.min(df_cc[\"Test_Time(s)\"]))\n",
    "            CVCT.append(np.max(df_cv[\"Test_Time(s)\"]) - np.min(df_cv[\"Test_Time(s)\"]))\n",
    "\n",
    "            # Discharging\n",
    "            df_d = df_lim[df_lim[\"Step_Index\"] == 7]\n",
    "            d_v = df_d[\"Voltage(V)\"]\n",
    "            d_c = df_d[\"Current(A)\"]\n",
    "            d_t = df_d[\"Test_Time(s)\"]\n",
    "            d_im = df_d[\"Internal_Resistance(Ohm)\"]\n",
    "\n",
    "            if len(list(d_c)) != 0:\n",
    "                time_diff = np.diff(list(d_t))\n",
    "                d_c = np.array(list(d_c))[1:]\n",
    "                discharge_capacity = time_diff * d_c / 3600  # Q = A*h\n",
    "                discharge_capacity = [\n",
    "                    np.sum(discharge_capacity[:n])\n",
    "                    for n in range(discharge_capacity.shape[0])\n",
    "                ]\n",
    "                discharge_capacities.append(-1 * discharge_capacity[-1])\n",
    "\n",
    "                dec = np.abs(np.array(d_v) - 3.8)[1:]\n",
    "                start = np.array(discharge_capacity)[np.argmin(dec)]\n",
    "                dec = np.abs(np.array(d_v) - 3.4)[1:]\n",
    "                end = np.array(discharge_capacity)[np.argmin(dec)]\n",
    "                health_indicator.append(-1 * (end - start))\n",
    "\n",
    "                internal_resistance.append(np.mean(np.array(d_im)))\n",
    "                count += 1\n",
    "\n",
    "    discharge_capacities = np.array(discharge_capacities)\n",
    "    health_indicator = np.array(health_indicator)\n",
    "    internal_resistance = np.array(internal_resistance)\n",
    "    CCCT = np.array(CCCT)\n",
    "    CVCT = np.array(CVCT)\n",
    "\n",
    "    idx = drop_outlier(discharge_capacities, count, 40)\n",
    "    df_result = pd.DataFrame(\n",
    "        {\n",
    "            \"cycle\": np.linspace(1, idx.shape[0], idx.shape[0]),\n",
    "            \"capacity\": discharge_capacities[idx],\n",
    "            \"SoH\": health_indicator[idx],\n",
    "            \"resistance\": internal_resistance[idx],\n",
    "            \"CCCT\": CCCT[idx],\n",
    "            \"CVCT\": CVCT[idx],\n",
    "        }\n",
    "    )\n",
    "    calce_data[name] = df_result"
   ]
  },
  {
   "cell_type": "code",
   "execution_count": 3,
   "metadata": {},
   "outputs": [
    {
     "name": "stdout",
     "output_type": "stream",
     "text": [
      "CALCE capacity data saved to path: ../../data/processed_data/calce/calce_capacity.npy\n"
     ]
    },
    {
     "data": {
      "text/plain": [
       "<Figure size 800x600 with 0 Axes>"
      ]
     },
     "metadata": {},
     "output_type": "display_data"
    },
    {
     "data": {
      "text/plain": [
       "<Figure size 800x600 with 0 Axes>"
      ]
     },
     "metadata": {},
     "output_type": "display_data"
    },
    {
     "data": {
      "text/plain": [
       "<Figure size 800x600 with 0 Axes>"
      ]
     },
     "metadata": {},
     "output_type": "display_data"
    },
    {
     "data": {
      "text/plain": [
       "<Figure size 800x600 with 0 Axes>"
      ]
     },
     "metadata": {},
     "output_type": "display_data"
    }
   ],
   "source": [
    "# 将容量信息保存到 npy 文件中\n",
    "keys = list(calce_data.keys())\n",
    "save_root_path = \"../../data/processed_data/calce/\"\n",
    "save_name = \"calce_capacity.npy\"\n",
    "save_path = os.path.join(save_root_path, save_name)\n",
    "calce_capacity = np.array([calce_data[key][\"capacity\"].values for key in keys], dtype=object)\n",
    "np.save(save_path, calce_capacity)\n",
    "print(f\"CALCE capacity data saved to path: {save_path}\")\n",
    "\n",
    "# 读取容量数据\n",
    "load_capacity = np.load(save_path, allow_pickle=True)\n",
    "\n",
    "# 容量退化曲线可视化\n",
    "for idx in range(len(calce_capacity)):\n",
    "    plt.figure(figsize=(8, 6))\n",
    "    plt.plot(calce_capacity[idx])\n",
    "    plt.xlabel(\"循环圈数\")\n",
    "    plt.ylabel(\"容量（Ah）\")\n",
    "    save_path = \"../../assets/thesis_figures/chapter_2/\"\n",
    "    plt.savefig(f\"../../assets/thesis_figures/chapter_2/calce_{battery_names[idx]}_capacity.jpg\", dpi=1000, bbox_inches=\"tight\")\n",
    "    plt.clf()"
   ]
  },
  {
   "attachments": {},
   "cell_type": "markdown",
   "metadata": {},
   "source": [
    "### 放电容量和内阻变化"
   ]
  },
  {
   "cell_type": "code",
   "execution_count": 4,
   "metadata": {},
   "outputs": [
    {
     "data": {
      "text/plain": [
       "<Figure size 900x600 with 0 Axes>"
      ]
     },
     "metadata": {},
     "output_type": "display_data"
    },
    {
     "data": {
      "text/plain": [
       "<Figure size 900x600 with 0 Axes>"
      ]
     },
     "metadata": {},
     "output_type": "display_data"
    },
    {
     "data": {
      "text/plain": [
       "<Figure size 900x600 with 0 Axes>"
      ]
     },
     "metadata": {},
     "output_type": "display_data"
    },
    {
     "data": {
      "text/plain": [
       "<Figure size 900x600 with 0 Axes>"
      ]
     },
     "metadata": {},
     "output_type": "display_data"
    }
   ],
   "source": [
    "# battery = calce_data[battery_names[0] # CS2_35\n",
    "\n",
    "# # 放电容量和内阻变化\n",
    "# plt.figure(figsize=(9,6))\n",
    "# plt.scatter(battery[\"cycle\"], battery[\"SoH\"], c=battery[\"resistance\"], s=5)\n",
    "# cbar = plt.colorbar()\n",
    "# cbar.set_label('内阻（Ohm）', rotation=-90, labelpad=20)\n",
    "# plt.xlabel(\"循环圈数\")\n",
    "# plt.ylabel(\"健康状态\")\n",
    "# plt.savefig(f\"../../assets/thesis_figures/chapter_2/calce_{battery_names[0]}_capacity_and_resistance.jpg\", dpi=1000, bbox_inches=\"tight\")\n",
    "# plt.clf()\n",
    "\n",
    "for idx in range(len(battery_names)):\n",
    "    battery = calce_data[battery_names[idx]]\n",
    "    # 放电容量和内阻变化\n",
    "    plt.figure(figsize=(9,6))\n",
    "    plt.scatter(battery[\"cycle\"], battery[\"SoH\"], c=battery[\"resistance\"], s=5)\n",
    "    cbar = plt.colorbar()\n",
    "    cbar.set_label('内阻（Ohm）', rotation=-90, labelpad=20)\n",
    "    plt.xlabel(\"循环圈数\")\n",
    "    plt.ylabel(\"健康状态\")\n",
    "    plt.savefig(f\"../../assets/thesis_figures/chapter_2/calce_{battery_names[idx]}_capacity_and_resistance.jpg\", dpi=1000, bbox_inches=\"tight\")\n",
    "    plt.clf()"
   ]
  },
  {
   "attachments": {},
   "cell_type": "markdown",
   "metadata": {},
   "source": [
    "### 各项指标 v.s. 充放电周期"
   ]
  },
  {
   "cell_type": "code",
   "execution_count": 5,
   "metadata": {},
   "outputs": [
    {
     "data": {
      "image/png": "[encoded data removed]",
      "text/plain": [
       "<Figure size 1200x900 with 2 Axes>"
      ]
     },
     "metadata": {},
     "output_type": "display_data"
    }
   ],
   "source": [
    "plt.figure(figsize=(12,9))\n",
    "names = ['CCCT', 'CVCT']\n",
    "for i in range(len(names)):\n",
    "    plt.subplot(2, 2, i+1)\n",
    "    plt.scatter(battery['cycle'], battery[names[i]], s=10)\n",
    "    plt.xlabel('Number of Cycles', fontsize=14)\n",
    "    plt.ylabel(names[i], fontsize=14)"
   ]
  }
 ],
 "metadata": {
  "kernelspec": {
   "display_name": "Python 3",
   "language": "python",
   "name": "python3"
  },
  "language_info": {
   "codemirror_mode": {
    "name": "ipython",
    "version": 3
   },
   "file_extension": ".py",
   "mimetype": "text/x-python",
   "name": "python",
   "nbconvert_exporter": "python",
   "pygments_lexer": "ipython3",
   "version": "3.8.16"
  }
 },
 "nbformat": 4,
 "nbformat_minor": 2
}
