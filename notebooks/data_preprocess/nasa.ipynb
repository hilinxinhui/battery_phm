{
 "cells": [
  {
   "cell_type": "code",
   "execution_count": 3,
   "metadata": {},
   "outputs": [],
   "source": [
    "import os\n",
    "import sys\n",
    "import glob\n",
    "import scipy\n",
    "from datetime import datetime\n",
    "\n",
    "import numpy as np\n",
    "import pandas as pd\n",
    "import matplotlib.pyplot as plt\n",
    "\n",
    "%matplotlib inline\n",
    "\n",
    "import sys\n",
    "sys.path.append(\"../../\")\n",
    "from utils.visualization import save_diagram"
   ]
  },
  {
   "cell_type": "code",
   "execution_count": 4,
   "metadata": {},
   "outputs": [],
   "source": [
    "def load_mat(file_path):\n",
    "    filename = os.path.basename(file_path).split(\".\")[0] # eg.B0005\n",
    "    data = scipy.io.loadmat(file_path)\n",
    "    # print(type(data)) # dict\n",
    "    # print(data.keys()) # dict_keys(['__header__', '__version__', '__globals__', 'B0005'])\n",
    "    # print(data[\"B0005\"][0][0][0][0].shape) # (616,)，实验持续了616个循环\n",
    "    # print(type(data[\"B0005\"][0][0][0][0][0])) # 用scipy读取mat文件，读取到结构体返回 numpy.void 类型数据\n",
    "\n",
    "    cols = data[filename][0][0][0][0]\n",
    "    \n",
    "    data = []\n",
    "    \n",
    "    for col in cols:\n",
    "        _ = {}\n",
    "        parameter = {}\n",
    "        keys = list(col[3][0][0].dtype.fields.keys())\n",
    "        if str(col[0][0]) != \"impedance\":\n",
    "            for idx, key in enumerate(keys):\n",
    "                parameter[key] = list(col[3][0][0][idx][0])\n",
    "\n",
    "        operation_type = str(col[0][0])\n",
    "        temperature = str(col[1][0][0])\n",
    "        time = str(datetime(\n",
    "            int(col[2][0][0]), int(col[2][0][1]), int(col[2][0][2]), int(col[2][0][3]), int(col[2][0][4]), int(col[2][0][5])\n",
    "        ))\n",
    "        _[\"type\"], _[\"temperature\"], _[\"time\"], _[\"data\"] = operation_type, temperature, time, parameter\n",
    "        data.append(_)\n",
    "\n",
    "    return data\n",
    "\n",
    "def get_capacity(data):\n",
    "    bcycle = len(data)\n",
    "    capacity = []\n",
    "    for i in range(0, bcycle):\n",
    "        if data[i][\"type\"] == \"discharge\":\n",
    "            capacity.append(data[i][\"data\"][\"Capacity\"][0])\n",
    "    return capacity"
   ]
  },
  {
   "cell_type": "code",
   "execution_count": 5,
   "metadata": {},
   "outputs": [],
   "source": [
    "battery_names = [\"B0005\", \"B0006\", \"B0007\", \"B0018\"]\n",
    "data_root_path = \"../../data/raw_data/nasa/\"\n",
    "data_path = [os.path.join(data_root_path, name + \".mat\") for name in battery_names]\n",
    "\n",
    "nasa_data = {}\n",
    "for name, path in zip(battery_names, data_path):\n",
    "    nasa_data[name] = load_mat(path)\n",
    "\n",
    "# 获取容量数据\n",
    "nasa_capacity = []\n",
    "for key in list(nasa_data.keys()):\n",
    "    nasa_capacity.append(np.array(get_capacity(nasa_data[key])))\n",
    "nasa_capacity = np.array(nasa_capacity, dtype=object)\n",
    "\n",
    "# 保存容量数据到 npy 文件\n",
    "save_root_path = \"../../data/processed_data/nasa/\"\n",
    "save_name = \"nasa_capacity.npy\"\n",
    "save_path = os.path.join(save_root_path, save_name)\n",
    "np.save(save_path, nasa_capacity)"
   ]
  },
  {
   "cell_type": "code",
   "execution_count": 9,
   "metadata": {},
   "outputs": [
    {
     "data": {
      "text/plain": [
       "<Figure size 800x600 with 0 Axes>"
      ]
     },
     "metadata": {},
     "output_type": "display_data"
    },
    {
     "data": {
      "text/plain": [
       "<Figure size 800x600 with 0 Axes>"
      ]
     },
     "metadata": {},
     "output_type": "display_data"
    },
    {
     "data": {
      "text/plain": [
       "<Figure size 800x600 with 0 Axes>"
      ]
     },
     "metadata": {},
     "output_type": "display_data"
    },
    {
     "data": {
      "text/plain": [
       "<Figure size 800x600 with 0 Axes>"
      ]
     },
     "metadata": {},
     "output_type": "display_data"
    }
   ],
   "source": [
    "# 读取容量数据\n",
    "load_capacity = np.load(save_path, allow_pickle=True)\n",
    "\n",
    "# 容量退化曲线可视化\n",
    "battery_names = [\"B0005\", \"B0006\", \"B0007\", \"B0018\"]\n",
    "for idx in range(len(battery_names)):\n",
    "    plt.figure(figsize=(8, 6))\n",
    "    plt.plot(load_capacity[idx])\n",
    "    plt.xlabel(\"循环圈数\")\n",
    "    plt.ylabel(\"容量（Ah）\")\n",
    "    save_path = f\"../../assets/thesis_figures/chapter_2/nasa_{battery_names[idx]}_capacity.jpg\"\n",
    "    plt.savefig(save_path, dpi=1000, bbox_inches=\"tight\")\n",
    "    plt.clf()"
   ]
  },
  {
   "cell_type": "code",
   "execution_count": null,
   "metadata": {},
   "outputs": [
    {
     "name": "stdout",
     "output_type": "stream",
     "text": [
      "cell B0005:\n",
      "\tlength of cell data: 616\n",
      "\tcharge count: 169, discharge count: 168\n",
      "cell B0006:\n",
      "\tlength of cell data: 616\n",
      "\tcharge count: 169, discharge count: 168\n",
      "cell B0007:\n",
      "\tlength of cell data: 616\n",
      "\tcharge count: 169, discharge count: 168\n",
      "cell B0018:\n",
      "\tlength of cell data: 319\n",
      "\tcharge count: 134, discharge count: 131\n"
     ]
    }
   ],
   "source": [
    "# 电池数据统计\n",
    "for index, cell in enumerate(list(nasa_data.keys())):\n",
    "    charge_count, dischareg_count = 0, 0\n",
    "    print(f\"cell {cell}:\")\n",
    "    # init_capacity = battery_init_capacity[index]\n",
    "    cell_data = nasa_data[cell]\n",
    "    cell_data_len = len(cell_data)\n",
    "    print(f\"\\tlength of cell data: {cell_data_len}\")\n",
    "    for i in range(cell_data_len - 1):\n",
    "        if cell_data[i][\"type\"] == \"charge\":\n",
    "            charge_count += 1\n",
    "        if cell_data[i][\"type\"] == \"discharge\":\n",
    "            dischareg_count += 1\n",
    "    print(f\"\\tcharge count: {charge_count}, discharge count: {dischareg_count}\")"
   ]
  },
  {
   "cell_type": "code",
   "execution_count": 9,
   "metadata": {},
   "outputs": [
    {
     "data": {
      "text/plain": [
       "<Figure size 800x600 with 0 Axes>"
      ]
     },
     "metadata": {},
     "output_type": "display_data"
    },
    {
     "data": {
      "text/plain": [
       "<Figure size 800x600 with 0 Axes>"
      ]
     },
     "metadata": {},
     "output_type": "display_data"
    },
    {
     "data": {
      "text/plain": [
       "<Figure size 800x600 with 0 Axes>"
      ]
     },
     "metadata": {},
     "output_type": "display_data"
    }
   ],
   "source": [
    "# 新旧循环VIT对比\n",
    "b0005_path = \"../../data/raw_data/nasa/B0005.mat\"\n",
    "data = load_mat(b0005_path)\n",
    "fresh_cell_time = [item / 60 for item in data[0][\"data\"][\"Time\"]]\n",
    "fresh_cell_v = data[0][\"data\"][\"Voltage_measured\"] # voltage\n",
    "fresh_cell_i = data[0][\"data\"][\"Current_measured\"] # current\n",
    "fresh_cell_t = data[0][\"data\"][\"Temperature_measured\"] # temperature\n",
    "\n",
    "\n",
    "old_cell_time = [item / 60 for item in data[167][\"data\"][\"Time\"]]\n",
    "old_cell_v = data[167][\"data\"][\"Voltage_measured\"] # voltage\n",
    "old_cell_i = data[167][\"data\"][\"Current_measured\"] # current\n",
    "old_cell_t = data[167][\"data\"][\"Temperature_measured\"] # temperature\n",
    "\n",
    "def compare_fresh_and_old(index_fresh, index_old, data_fresh, data_old, xlabel, ylabel, save_path):\n",
    "    plt.figure(figsize=(8, 6))\n",
    "    plt.plot(index_fresh, data_fresh)\n",
    "    plt.plot(index_old, data_old)\n",
    "    plt.xlabel(xlabel)\n",
    "    plt.ylabel(ylabel)\n",
    "    plt.legend([\"第1个循环\", \"第168个循环\"])\n",
    "    plt.tight_layout()\n",
    "    plt.savefig(save_path, dpi=1000, bbox_inches=\"tight\")\n",
    "    plt.clf()\n",
    "\n",
    "compare_fresh_and_old(fresh_cell_time,old_cell_time, fresh_cell_v, old_cell_v, \"时间（min）\", \"电压（V）\", \"../../assets/thesis_figures/chapter_2/fresh_old_cell_voltage.jpg\")\n",
    "compare_fresh_and_old(fresh_cell_time,old_cell_time, fresh_cell_i, old_cell_i, \"时间（min）\", \"电流（A）\", \"../../assets/thesis_figures/chapter_2/fresh_old_cell_current.jpg\")\n",
    "compare_fresh_and_old(fresh_cell_time,old_cell_time, fresh_cell_t, old_cell_t, \"时间（min）\", \"温度（℃）\", \"../../assets/thesis_figures/chapter_2/fresh_old_cell_temperature.jpg\")\n",
    "\n",
    "# plt.figure(figsize=(16, 4))\n",
    "# plt.suptitle(\"电池B0005不同循环充电参数对比\")\n",
    "\n",
    "# ax1 = plt.subplot(1, 3, 1)\n",
    "# # plt.title(\"fresh cell vs. old cell: voltage\")\n",
    "# plt.xlim(0, 180)\n",
    "# plt.ylim(3.5, 4.5)\n",
    "# ax1.set_xlabel(\"时间（分钟）\")\n",
    "# ax1.set_ylabel(\"电压（V）\")\n",
    "# ax1.plot(fresh_cell_time, fresh_cell_v, label=\"fresh cycle (1st cycle)\")\n",
    "# ax1.plot(old_cell_time, old_cell_v, \"--\", label=\"old cycle (168th cycle)\")\n",
    "# ax1.annotate(f\"(a)\", xy=(0.5, -0.25), fontsize=12, ha=\"center\", va=\"center\", xycoords=\"axes fraction\")\n",
    "# ax1.legend()\n",
    "\n",
    "# ax2 = plt.subplot(1, 3, 2)\n",
    "# # plt.title(\"fresh cell vs. old cell: current\")\n",
    "# plt.xlim(0, 180)\n",
    "# plt.ylim(0, 2)\n",
    "# ax2.set_xlabel(\"时间（分钟）\")\n",
    "# ax2.set_ylabel(\"电流（A）\")\n",
    "# ax2.plot(fresh_cell_time, fresh_cell_i, label=\"fresh cycle (1st cycle)\")\n",
    "# ax2.plot(old_cell_time, old_cell_i, \"--\", label=\"old cycle (168th cycle)\")\n",
    "# ax2.annotate(f\"(b)\", xy=(0.5, -0.25), fontsize=12, ha=\"center\", va=\"center\", xycoords=\"axes fraction\")\n",
    "# ax2.legend()\n",
    "\n",
    "# ax3 = plt.subplot(1, 3, 3)\n",
    "# # plt.title(\"fresh cell vs. old cell: temperature\")\n",
    "# plt.xlim(0, 180)\n",
    "# plt.ylim(22, 30)\n",
    "# ax3.set_xlabel(\"时间（分钟）\")\n",
    "# ax3.set_ylabel(\"温度（$^\\circ$C）\")\n",
    "# ax3.plot(fresh_cell_time, fresh_cell_t, label=\"fresh cycle (1st cycle)\")\n",
    "# ax3.plot(old_cell_time, old_cell_t, \"--\", label=\"old cycle (168th cycle)\")\n",
    "# ax3.annotate(f\"(c)\", xy=(0.5, -0.25), fontsize=12, ha=\"center\", va=\"center\", xycoords=\"axes fraction\")\n",
    "# ax3.legend()\n",
    "\n",
    "# plt.tight_layout()\n",
    "# plt.show()"
   ]
  },
  {
   "cell_type": "code",
   "execution_count": 11,
   "metadata": {},
   "outputs": [
    {
     "name": "stdout",
     "output_type": "stream",
     "text": [
      "dict_keys(['Voltage_measured', 'Current_measured', 'Temperature_measured', 'Current_charge', 'Voltage_charge', 'Time'])\n"
     ]
    },
    {
     "data": {
      "text/plain": [
       "<Figure size 800x600 with 0 Axes>"
      ]
     },
     "metadata": {},
     "output_type": "display_data"
    },
    {
     "data": {
      "text/plain": [
       "<Figure size 800x600 with 0 Axes>"
      ]
     },
     "metadata": {},
     "output_type": "display_data"
    },
    {
     "data": {
      "text/plain": [
       "<Figure size 800x600 with 0 Axes>"
      ]
     },
     "metadata": {},
     "output_type": "display_data"
    }
   ],
   "source": [
    "# 充电参数变化曲线\n",
    "print(nasa_data[\"B0005\"][0][\"data\"].keys())\n",
    "bcycle = len(nasa_data[\"B0005\"])\n",
    "for idx in range(bcycle):\n",
    "    if nasa_data[\"B0005\"][idx][\"type\"] == \"charge\":\n",
    "        index = [time / 60 for time in nasa_data[\"B0005\"][idx][\"data\"][\"Time\"]]\n",
    "        save_diagram(index, nasa_data[\"B0005\"][idx][\"data\"][\"Voltage_measured\"], \"时间（min）\", \"电压（V）\", \"../../assets/thesis_figures/chapter_2/nasa_charge_voltage.jpg\")\n",
    "        save_diagram(index, nasa_data[\"B0005\"][idx][\"data\"][\"Current_measured\"], \"时间（min）\", \"电流（A）\", \"../../assets/thesis_figures/chapter_2/nasa_charge_current.jpg\")\n",
    "        save_diagram(index, nasa_data[\"B0005\"][idx][\"data\"][\"Temperature_measured\"], \"时间（min）\", \"温度（℃）\", \"../../assets/thesis_figures/chapter_2/nasa_charge_temperature.jpg\")\n",
    "        break"
   ]
  },
  {
   "cell_type": "code",
   "execution_count": 9,
   "metadata": {},
   "outputs": [
    {
     "data": {
      "text/plain": [
       "<Figure size 800x600 with 0 Axes>"
      ]
     },
     "metadata": {},
     "output_type": "display_data"
    },
    {
     "data": {
      "text/plain": [
       "<Figure size 800x600 with 0 Axes>"
      ]
     },
     "metadata": {},
     "output_type": "display_data"
    },
    {
     "data": {
      "text/plain": [
       "<Figure size 800x600 with 0 Axes>"
      ]
     },
     "metadata": {},
     "output_type": "display_data"
    }
   ],
   "source": [
    "# 放电参数变化曲线\n",
    "bcycle = len(nasa_data[\"B0005\"])\n",
    "for idx in range(bcycle):\n",
    "    if nasa_data[\"B0005\"][idx][\"type\"] == \"discharge\":\n",
    "        index = [time / 60 for time in nasa_data[\"B0005\"][idx][\"data\"][\"Time\"]]\n",
    "        save_diagram(index, nasa_data[\"B0005\"][idx][\"data\"][\"Voltage_measured\"], \"时间（min）\", \"电压（V）\", \"../../assets/thesis_figures/chapter_2/nasa_discharge_voltage.jpg\")\n",
    "        save_diagram(index, nasa_data[\"B0005\"][idx][\"data\"][\"Current_measured\"], \"时间（min）\", \"电流（A）\", \"../../assets/thesis_figures/chapter_2/nasa_discharge_current.jpg\")\n",
    "        save_diagram(index, nasa_data[\"B0005\"][idx][\"data\"][\"Temperature_measured\"], \"时间（min）\", \"温度（℃）\", \"../../assets/thesis_figures/chapter_2/nasa_discharge_temperature.jpg\")\n",
    "        break"
   ]
  },
  {
   "cell_type": "code",
   "execution_count": null,
   "metadata": {},
   "outputs": [],
   "source": [
    "# def extract_charge(data):\n",
    "#     charge_input = []\n",
    "#     bcycle = len(data) # 616\n",
    "#     print(bcycle)\n",
    "#     # 最后一组数据的测量点过少，舍弃\n",
    "#     for i in range(0, bcycle - 1):\n",
    "#         if data[i][\"type\"] == \"charge\":\n",
    "#             end = len(data[i][\"data\"][\"Voltage_measured\"])\n",
    "#             le = end % 10\n",
    "\n",
    "#             vTemp = np.array(data[i][\"data\"][\"Voltage_measured\"][0:end-le])\n",
    "#             vTemp = vTemp.reshape(int(len(vTemp)/10), -1, order=\"F\")\n",
    "#             print(\"1: \", vTemp.shape)\n",
    "#             print(vTemp)\n",
    "#             vTemp = vTemp.mean(axis=0)\n",
    "#             print(\"2: \", vTemp.shape)\n",
    "#             print(vTemp)\n",
    "\n",
    "#             iTemp = np.array(data[i][\"data\"][\"Current_measured\"][0:end-le])\n",
    "#             iTemp = iTemp.reshape(int(len(iTemp)/10), -1, order=\"F\")\n",
    "#             iTemp = iTemp.mean(axis=0)\n",
    "\n",
    "#             tTemp = np.array(data[i][\"data\"][\"Temperature_measured\"][0:end-le])\n",
    "#             tTemp = tTemp.reshape(int(len(tTemp)/10), -1, order=\"F\")\n",
    "#             tTemp = tTemp.mean(axis=0)\n",
    "\n",
    "#             charge_input.append(np.hstack((vTemp, iTemp, tTemp)))\n",
    "\n",
    "#     charge_input = np.array(charge_input)\n",
    "#     # print(charge_input.shape)\n",
    "#     return charge_input\n",
    "\n",
    "# def extract_discharge(data):\n",
    "#     bcycle = len(data)\n",
    "#     capacity = []\n",
    "#     for i in range(0, bcycle):\n",
    "#         if data[i][\"type\"] == \"discharge\":\n",
    "#             capacity.append(data[i][\"data\"][\"Capacity\"][0])\n",
    "#     return capacity\n",
    "\n",
    "# def max_min_norm(charge_input, init, cap):\n",
    "#     print(charge_input.shape)\n",
    "    \n",
    "#     r = np.max(charge_input, axis=0) - np.min(charge_input, axis=0)\n",
    "#     print(\"here\")\n",
    "#     print(np.max(charge_input, axis=0))\n",
    "#     print(np.min(charge_input, axis=0))\n",
    "#     print(r)\n",
    "#     print(\"here\")\n",
    "#     X = (charge_input - np.min(charge_input, axis=0)) / r\n",
    "\n",
    "#     comp = len(charge_input) - len(cap)\n",
    "#     y = [init for _ in range(comp)] + cap\n",
    "#     ym = np.min(y)\n",
    "#     yr = np.max(y) - np.min(y)\n",
    "#     y = (y - ym) / yr\n",
    "#     return X, y, ym, yr\n",
    "\n",
    "# def min_max_scaler(data):\n",
    "#     min, max = np.min(data), np.max(data)\n",
    "#     r = max - min\n",
    "#     data = (data - min) / r\n",
    "#     return  data, min, r\n",
    "\n",
    "# def de_min_max_scaler(data, min, r):\n",
    "#     return data * r + min"
   ]
  }
 ],
 "metadata": {
  "kernelspec": {
   "display_name": "rul_prediction",
   "language": "python",
   "name": "python3"
  },
  "language_info": {
   "codemirror_mode": {
    "name": "ipython",
    "version": 3
   },
   "file_extension": ".py",
   "mimetype": "text/x-python",
   "name": "python",
   "nbconvert_exporter": "python",
   "pygments_lexer": "ipython3",
   "version": "3.8.16"
  },
  "orig_nbformat": 4
 },
 "nbformat": 4,
 "nbformat_minor": 2
}
