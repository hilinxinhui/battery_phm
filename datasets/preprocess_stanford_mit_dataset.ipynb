{
 "cells": [
  {
   "cell_type": "code",
   "execution_count": 1,
   "metadata": {},
   "outputs": [
    {
     "name": "stderr",
     "output_type": "stream",
     "text": [
      "Duplicate key in file PosixPath('/home/lxh/miniconda3/envs/rul_prediction/lib/python3.8/site-packages/matplotlib/mpl-data/matplotlibrc'), line 268 ('font.family         : sans-serif        ')\n",
      "Duplicate key in file PosixPath('/home/lxh/miniconda3/envs/rul_prediction/lib/python3.8/site-packages/matplotlib/mpl-data/matplotlibrc'), line 272 ('font.sans-serif: DejaVu Sans, Bitstream Vera Sans, Computer Modern Sans Serif, Lucida Grande, Verdana, Geneva, Lucid, Arial, Helvetica, Avant Garde, sans-serif')\n"
     ]
    }
   ],
   "source": [
    "import os\n",
    "import pickle\n",
    "import numpy as np\n",
    "import matplotlib.pyplot as plt\n",
    "from sklearn.preprocessing import MinMaxScaler"
   ]
  },
  {
   "cell_type": "code",
   "execution_count": 2,
   "metadata": {},
   "outputs": [
    {
     "name": "stdout",
     "output_type": "stream",
     "text": [
      "(3, 9, 2)\n"
     ]
    }
   ],
   "source": [
    "def sliding_window(raw_data, window_size, stride=1):\n",
    "    res = []\n",
    "    left = right = 0\n",
    "    while left + window_size <= len(raw_data):\n",
    "        res.append(raw_data[left: left + window_size])\n",
    "        left += stride\n",
    "        right += stride\n",
    "    return np.array(res, dtype=np.float32)\n",
    "\n",
    "def data_extend(voltage, current, temperature, window_size=225, stride=45):\n",
    "    assert len(voltage) == len(current) and len(current) == len(temperature), \"Error!\"\n",
    "    voltage_extend = sliding_window(voltage, window_size=window_size, stride=stride)\n",
    "    current_extend = sliding_window(current, window_size=window_size, stride=stride)\n",
    "    temperature_extend = sliding_window(temperature, window_size=window_size, stride=stride)\n",
    "\n",
    "    return np.array((voltage_extend, current_extend, temperature_extend))\n",
    "\n",
    "def build_samples(voltage, current, temperature, target):\n",
    "    samples = []\n",
    "    data_extended = data_extend(voltage, current, temperature)\n",
    "    for j in range(data_extended.shape[1]):\n",
    "        seq = np.vstack((data_extended[0][j], data_extended[1][j], data_extended[2][j]))\n",
    "        samples.append((seq, target))\n",
    "    return np.array(samples, dtype=object)\n",
    "\n",
    "# sliding_window 函数测试\n",
    "raw_data = np.array(range(10))\n",
    "data = sliding_window(raw_data=raw_data, window_size=3, stride=1)\n",
    "# data_extend 函数测试\n",
    "vol, cur, tem = raw_data, raw_data * 10, raw_data * 100\n",
    "data_extended = data_extend(vol, cur, tem, window_size=2, stride=1)\n",
    "print(data_extended.shape) # (num_features, num_windwos aka num_samples, window_size)\n",
    "# build_samples 函数测试"
   ]
  },
  {
   "cell_type": "code",
   "execution_count": 12,
   "metadata": {},
   "outputs": [],
   "source": [
    "dataset_path = \"../data/124_commercial_cells/batch3.pkl\"\n",
    "with open(dataset_path, \"rb\") as f:\n",
    "    dataset = pickle.load(f)"
   ]
  },
  {
   "cell_type": "code",
   "execution_count": 4,
   "metadata": {},
   "outputs": [
    {
     "data": {
      "text/plain": [
       "array([-1.        , -0.77777778, -0.55555556, -0.33333333, -0.11111111,\n",
       "        0.11111111,  0.33333333,  0.55555556,  0.77777778,  1.        ])"
      ]
     },
     "execution_count": 4,
     "metadata": {},
     "output_type": "execute_result"
    }
   ],
   "source": [
    "scaler = MinMaxScaler(feature_range=(-1, 1))\n",
    "data = np.arange(10).reshape(-1, 1)\n",
    "scaler.fit_transform(data).flatten()"
   ]
  },
  {
   "cell_type": "code",
   "execution_count": 13,
   "metadata": {},
   "outputs": [],
   "source": [
    "batteries = dict()\n",
    "keys = list(dataset.keys())[0:16] # 取前16块电芯数据\n",
    "rated_capacity = 1.1\n",
    "\n",
    "v_scaler = MinMaxScaler(feature_range=(-1, 1))\n",
    "i_scaler = MinMaxScaler(feature_range=(-1, 1))\n",
    "t_scaler = MinMaxScaler(feature_range=(-1, 1))\n",
    "qc_scaler = MinMaxScaler(feature_range=(0, 1))\n",
    "qd_scaler = MinMaxScaler(feature_range=(0, 1))\n",
    "\n",
    "for idx, key in enumerate(keys):\n",
    "    # 每次取一块电池的数据 dataset[key]\n",
    "    \n",
    "    # 构造循环数据\n",
    "    # print(idx, dataset[key][\"cycles\"].keys())\n",
    "    cycle_data = dict()\n",
    "    for i in dataset[key][\"cycles\"].keys():\n",
    "        cycle_data[int(i)] = {\n",
    "            \"V\": v_scaler.fit_transform(dataset[key][\"cycles\"][i][\"V\"].astype(np.float32).reshape(-1, 1)).flatten(),\n",
    "            \"I\": i_scaler.fit_transform(dataset[key][\"cycles\"][i][\"I\"].astype(np.float32).reshape(-1, 1)).flatten(),\n",
    "            \"T\": t_scaler.fit_transform(dataset[key][\"cycles\"][i][\"T\"].astype(np.float32).reshape(-1, 1)).flatten(),\n",
    "            \"QC\": qc_scaler.fit_transform(dataset[key][\"cycles\"][i][\"Qc\"].astype(np.float32).reshape(-1, 1)).flatten(),\n",
    "            \"QD\": qd_scaler.fit_transform(dataset[key][\"cycles\"][i][\"Qd\"].astype(np.float32).reshape(-1, 1)).flatten(),\n",
    "        }\n",
    "\n",
    "    # 构造数据集\n",
    "    batteries[idx] = {\n",
    "        \"cycle_len\": int(dataset[key][\"cycle_life\"].item()) - 1,    # 循环圈数\n",
    "        \"charge_policy\": dataset[key][\"charge_policy\"],             # 充放电配置\n",
    "        \"cycle_data\": cycle_data,                                   # 循环数据\n",
    "        \"discharge_capacity\": dataset[key][\"summary\"][\"QD\"]         # 放电容量\n",
    "    }\n",
    "\n",
    "# print(\"----- 电池数据 -----\")\n",
    "# for cnt in range(len(batterys)):\n",
    "#     print(f\"电池 {keys[cnt]} 的循环圈数： \", len(batterys[cnt][\"cycle_data\"].keys()))\n",
    "\n",
    "# print(\"----- Battery 1 电池循环数据 -----\")\n",
    "# test_battery = batteries[0]\n",
    "# print(\"循环圈数： \", test_battery[\"cycle_len\"], \"， 充电策略： \", test_battery[\"charge_policy\"])\n",
    "# print(\"放电容量： \", test_battery[\"discharge_capacity\"])\n",
    "# print(\"循环数据： \")\n",
    "# # print(test_battery[\"cycle_data\"])\n",
    "# for key in test_battery[\"cycle_data\"].keys():\n",
    "#     print(\"  \", key, \"：\")\n",
    "#     print(\"\\t\", test_battery[\"cycle_data\"][key]) # 打印第一块电池每个循环的VIT信息"
   ]
  },
  {
   "cell_type": "code",
   "execution_count": 9,
   "metadata": {},
   "outputs": [
    {
     "data": {
      "image/png": "[encoded data removed]",
      "text/plain": [
       "<Figure size 640x480 with 1 Axes>"
      ]
     },
     "metadata": {},
     "output_type": "display_data"
    }
   ],
   "source": [
    "# 保存多元时间序列数据和标签到npy文件，格式为（sequence，target）\n",
    "names = [\"b3c\" + str(num).rjust(2, \"0\") for num in range(16)]\n",
    "\n",
    "storage_path = \"../data/124_commercial_cells/npy_files\"\n",
    "for idx, key in enumerate(keys):\n",
    "    dataset = []\n",
    "    cell = batteries[idx]\n",
    "    cycle_len = cell[\"cycle_len\"]\n",
    "    # print(type(cycle_len), cycle_len)\n",
    "    for i in range(cycle_len):\n",
    "        plt.plot(cell[\"cycle_data\"][i][\"V\"]) # 绘制电压曲线\n",
    "        plt.plot(cell[\"cycle_data\"][i][\"I\"]) # 绘制电流曲线\n",
    "        # plt.plot(cell[\"cycle_data\"][i][\"T\"]) # 绘制温度曲线\n",
    "        # plt.plot((cell[\"cycle_data\"][i][\"QC\"] - cell[\"cycle_data\"][i][\"QD\"]) / rated_capacity) # 绘制SOC曲线（使用额定容量）\n",
    "        plt.plot((cell[\"cycle_data\"][i][\"QC\"] - cell[\"cycle_data\"][i][\"QD\"])) # 绘制SOC曲线（使用额定容量）\n",
    "        # print(np.argmax((cell[\"cycle_data\"][i][\"QC\"] - cell[\"cycle_data\"][i][\"QD\"]) / rated_capacity)) # 返回SOC序列中的最大值索引，为充放电切换时刻\n",
    "        # samples = build_samples(cell[\"cycle_data\"][i][\"V\"], cell[\"cycle_data\"][i][\"I\"], cell[\"cycle_data\"][i][\"T\"], cell[\"discharge_capacity\"][i])\n",
    "        # dataset.append(samples)\n",
    "        break\n",
    "    break\n",
    "    # 拉平数据集（消除充放电循环维度）\n",
    "    # dataset_to_save = []\n",
    "    # for cycle_data in dataset:\n",
    "    #     for sample in cycle_data:\n",
    "    #         dataset_to_save.append(np.array(sample))\n",
    "\n",
    "    # np.save(os.path.join(storage_path, names[idx] + \".npy\"), np.array(dataset_to_save))\n",
    "    # print(f\"cell {key} data save to path: {os.path.join(storage_path, names[idx] + '.npy')}\")"
   ]
  },
  {
   "cell_type": "code",
   "execution_count": 7,
   "metadata": {},
   "outputs": [],
   "source": [
    "# import random\n",
    "# random.seed(0)\n",
    "# num = random.randint(0, 15)\n",
    "# print(num) # 12\n",
    "\n",
    "# 读取数据测试\n",
    "# path = \"../data/124_commercial_cells/npy_files/b3c12.npy\"\n",
    "# load_data = np.load(path, allow_pickle=True) # 11761\n",
    "# print(load_data.shape) # (11761, 2)\n",
    "\n",
    "# # 训练/验证过程中如何读取数据集？\n",
    "# # print(load_data[0])\n",
    "# cap = []\n",
    "# for sample in load_data:\n",
    "#     target = sample[1]\n",
    "#     cap.append(target)\n",
    "\n",
    "# for X, y in load_data:\n",
    "#     print(X)\n",
    "#     print(y)\n",
    "#     break\n",
    "\n",
    "# plt.plot(cap)"
   ]
  }
 ],
 "metadata": {
  "kernelspec": {
   "display_name": "rul_prediction",
   "language": "python",
   "name": "python3"
  },
  "language_info": {
   "codemirror_mode": {
    "name": "ipython",
    "version": 3
   },
   "file_extension": ".py",
   "mimetype": "text/x-python",
   "name": "python",
   "nbconvert_exporter": "python",
   "pygments_lexer": "ipython3",
   "version": "3.8.16"
  },
  "orig_nbformat": 4
 },
 "nbformat": 4,
 "nbformat_minor": 2
}
